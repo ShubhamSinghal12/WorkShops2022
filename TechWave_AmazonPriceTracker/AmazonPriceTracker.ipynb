{
 "cells": [
  {
   "cell_type": "code",
   "execution_count": 1,
   "metadata": {},
   "outputs": [],
   "source": [
    "import requests\n",
    "from bs4 import BeautifulSoup"
   ]
  },
  {
   "cell_type": "code",
   "execution_count": 2,
   "metadata": {},
   "outputs": [],
   "source": [
    "url = \"https://www.amazon.in/Tecno-Electric-Storage-7000mAh-Processor/dp/B0B315GFSW?ref_=Oct_DLandingS_D_fe907a50_60&smid=A14CZOWI0VEHLG&th=1\""
   ]
  },
  {
   "cell_type": "code",
   "execution_count": 5,
   "metadata": {},
   "outputs": [],
   "source": [
    "headers = {\n",
    "    \"User-Agent\":\"Mozilla/5.0 (Macintosh; Intel Mac OS X 10_15_7) AppleWebKit/537.36 (KHTML, like Gecko) Chrome/102.0.0.0 Safari/537.36\",\n",
    "    \"Accept-language\":\"en\"\n",
    "}\n",
    "r = requests.get(url,headers=headers)\n",
    "# print(r.text)"
   ]
  },
  {
   "cell_type": "code",
   "execution_count": 17,
   "metadata": {},
   "outputs": [],
   "source": [
    "def getNamePrice(url):\n",
    "    headers = {\n",
    "    \"User-Agent\":\"Mozilla/5.0 (Macintosh; Intel Mac OS X 10_15_7) AppleWebKit/537.36 (KHTML, like Gecko) Chrome/102.0.0.0 Safari/537.36\",\n",
    "    \"Accept-language\":\"en\"\n",
    "    }\n",
    "    r = requests.get(url,headers=headers)\n",
    "    soup = BeautifulSoup(r.text,\"lxml\")\n",
    "    pname = soup.find(\"span\",id=\"productTitle\").text.strip()\n",
    "    price = soup.find(\"span\",class_ = \"a-offscreen\").text\n",
    "    price = float(price[1:].replace(\",\",\"\"))\n",
    "\n",
    "    return pname,price"
   ]
  },
  {
   "cell_type": "code",
   "execution_count": 24,
   "metadata": {},
   "outputs": [],
   "source": [
    "urls = []\n",
    "with open(\"Amazon_URLS.txt\") as furl:\n",
    "    t = furl.read().strip()\n",
    "    urls = t.split(\"\\n\")\n",
    "# print(urls)"
   ]
  },
  {
   "cell_type": "code",
   "execution_count": 25,
   "metadata": {},
   "outputs": [],
   "source": [
    "rows = []\n",
    "for url in urls:\n",
    "    name,price = getNamePrice(url)\n",
    "    rows.append([name,price])"
   ]
  },
  {
   "cell_type": "code",
   "execution_count": 26,
   "metadata": {},
   "outputs": [
    {
     "name": "stdout",
     "output_type": "stream",
     "text": [
      "['Acer Nitro 5 An515-45 AMD Ryzen 7 5800H 8-Core Nvidia Geforce RTX 3060 Gaming Laptop Graphics 15.6 Inches Qhd 165Hz IPS Display Windows 10 Home 16Gb Ddr4 256Gb Ssd 1Tb HDD WiFi 6 RGB Backlit Keyboard', 116500.0]\n",
      "['Redmi 10 Prime (Astral White 4GB RAM 64GB ROM |Helio G88 with extendable RAM Upto 2GB |FHD+ 90Hz Adaptive Sync Display)', 11499.0]\n",
      "['boAt Rockerz 550 Over Ear Bluetooth Headphones with Upto 20 Hours Playback, 50MM Drivers, Soft Padded Ear Cushions and Physical Noise Isolation(Red)', 1799.0]\n",
      "['boAt Airdopes 141 True Wireless Earbuds with 42H Playtime, Beast™ Mode(Low Latency Upto 80ms) for Gaming, ENx™ Tech, ASAP™ Charge, IWP™, IPX4 Water Resistance, Smooth Touch Controls(Bold Black)', 1499.0]\n",
      "['Tata Sampann Unpolished Toor Dal/ Arhar Dal, 1kg', 147.0]\n",
      "['ZOTAC Gaming GeForce GTX 1660 Super Twin Fan 6GB GDDR6, 192-bit, 4K / HDR / VR Ready, Firestorm Utility, HDMI 2.0b, 5 Years Warranty(3 Years Warranty + 2 Years Extended Warranty)', 26220.0]\n"
     ]
    }
   ],
   "source": [
    "for r in rows:\n",
    "    print(r)"
   ]
  },
  {
   "cell_type": "code",
   "execution_count": 27,
   "metadata": {},
   "outputs": [],
   "source": [
    "import csv"
   ]
  },
  {
   "cell_type": "code",
   "execution_count": 28,
   "metadata": {},
   "outputs": [],
   "source": [
    "with open(\"Amazon_Prices.csv\",\"w\") as fp:\n",
    "    csvw = csv.writer(fp)\n",
    "    csvw.writerow([\"Name\",\"Price\"])\n",
    "    csvw.writerows(rows)"
   ]
  },
  {
   "cell_type": "code",
   "execution_count": null,
   "metadata": {},
   "outputs": [],
   "source": []
  }
 ],
 "metadata": {
  "interpreter": {
   "hash": "5edc29c2ed010d6458d71a83433b383a96a8cbd3efe8531bc90c4b8a5b8bcec9"
  },
  "kernelspec": {
   "display_name": "Python 3.8.2 64-bit",
   "language": "python",
   "name": "python3"
  },
  "language_info": {
   "codemirror_mode": {
    "name": "ipython",
    "version": 3
   },
   "file_extension": ".py",
   "mimetype": "text/x-python",
   "name": "python",
   "nbconvert_exporter": "python",
   "pygments_lexer": "ipython3",
   "version": "3.8.2"
  },
  "orig_nbformat": 4
 },
 "nbformat": 4,
 "nbformat_minor": 2
}
